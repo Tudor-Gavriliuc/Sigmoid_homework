{
 "cells": [
  {
   "cell_type": "markdown",
   "id": "ae1f175e",
   "metadata": {},
   "source": [
    "Formula No. 1: Normal Distribution."
   ]
  },
  {
   "cell_type": "code",
   "execution_count": 3,
   "id": "265cfb24",
   "metadata": {},
   "outputs": [
    {
     "name": "stdout",
     "output_type": "stream",
     "text": [
      "X:4\n",
      "mu:4\n",
      "sigma:4\n",
      "0.6266570686577501\n"
     ]
    }
   ],
   "source": [
    "import numpy as np\n",
    "import math as math\n",
    "import random\n",
    "x = float(input(\"X:\"))\n",
    "mu = float(input(\"mu:\"))\n",
    "sigma = float(input(\"sigma:\"))\n",
    "def normal_distribution(x,mu,sigma):\n",
    "    result = (1/sigma*np.sqrt(2*math.pi))*(1/(np.exp((1/2)*((x-mu)**2/sigma*sigma))))\n",
    "    print(result)\n",
    "normal_distribution(x,mu,sigma)"
   ]
  },
  {
   "cell_type": "markdown",
   "id": "b6731967",
   "metadata": {},
   "source": [
    "Formula No. 2: Sigmoid Function."
   ]
  },
  {
   "cell_type": "code",
   "execution_count": 4,
   "id": "4aeaf0d0",
   "metadata": {},
   "outputs": [
    {
     "name": "stdout",
     "output_type": "stream",
     "text": [
      "[0.5        0.88079708 0.99987661 0.99987661 0.98201379]\n"
     ]
    }
   ],
   "source": [
    "#y = float(input(\"y:\"))\n",
    "import numpy as np\n",
    "y = np.random.randint(10,size=5)\n",
    "def sigmoid_function(y):\n",
    "    result = (1/(1+(1/np.exp(y))))\n",
    "    print(result)\n",
    "sigmoid_function(y)"
   ]
  },
  {
   "cell_type": "markdown",
   "id": "6ad5a8eb",
   "metadata": {},
   "source": [
    "Formula No. 3: Weights update in Logistic Regression."
   ]
  },
  {
   "cell_type": "code",
   "execution_count": 5,
   "id": "35cec902",
   "metadata": {},
   "outputs": [
    {
     "name": "stdout",
     "output_type": "stream",
     "text": [
      "[9 1 4 4 4]\n"
     ]
    }
   ],
   "source": [
    "w = np.random.randint(10,size=5)\n",
    "w1 = np.random.randint(10,size=5)\n",
    "x = np.random.randint(10,size=(5,5))\n",
    "y = np.random.randint(10,size=5)\n",
    "alfa = 0.0005\n",
    "for j in range(5):\n",
    "    i = 0\n",
    "    result = (1/(1+(1/np.exp(y[i]))))\n",
    "    w1[j] = w[j]- alfa*(1/5)*(result-y[i])*x[i][j]\n",
    "    i = i + 1\n",
    "print(w1)\n"
   ]
  },
  {
   "cell_type": "markdown",
   "id": "ed5f9817",
   "metadata": {},
   "source": [
    "Formula No. 4: Mean Squared Error"
   ]
  },
  {
   "cell_type": "code",
   "execution_count": 6,
   "id": "4291ec39",
   "metadata": {},
   "outputs": [
    {
     "name": "stdout",
     "output_type": "stream",
     "text": [
      "14.2\n"
     ]
    }
   ],
   "source": [
    "predictions = np.random.randint(10,size=5)\n",
    "target = np.random.randint(10,size=5)\n",
    "mse = 0\n",
    "for i in range(5):\n",
    "    mse = mse + pow(predictions[i]-target[i],2)\n",
    "print(mse/5)"
   ]
  },
  {
   "cell_type": "markdown",
   "id": "80eceb6b",
   "metadata": {},
   "source": [
    "Formula No. 5: Binary Cross Entropy"
   ]
  },
  {
   "cell_type": "code",
   "execution_count": 7,
   "id": "4020184f",
   "metadata": {
    "scrolled": false
   },
   "outputs": [
    {
     "ename": "ValueError",
     "evalue": "math domain error",
     "output_type": "error",
     "traceback": [
      "\u001b[0;31m---------------------------------------------------------------------------\u001b[0m",
      "\u001b[0;31mValueError\u001b[0m                                Traceback (most recent call last)",
      "Cell \u001b[0;32mIn[7], line 5\u001b[0m\n\u001b[1;32m      3\u001b[0m loss \u001b[38;5;241m=\u001b[39m \u001b[38;5;241m0\u001b[39m\n\u001b[1;32m      4\u001b[0m \u001b[38;5;28;01mfor\u001b[39;00m i \u001b[38;5;129;01min\u001b[39;00m \u001b[38;5;28mrange\u001b[39m(\u001b[38;5;241m5\u001b[39m):\n\u001b[0;32m----> 5\u001b[0m     loss \u001b[38;5;241m=\u001b[39m loss \u001b[38;5;241m+\u001b[39m predictions[i]\u001b[38;5;241m*\u001b[39m\u001b[43mmath\u001b[49m\u001b[38;5;241;43m.\u001b[39;49m\u001b[43mlog\u001b[49m\u001b[43m(\u001b[49m\u001b[43mtarget\u001b[49m\u001b[43m[\u001b[49m\u001b[43mi\u001b[49m\u001b[43m]\u001b[49m\u001b[43m)\u001b[49m\u001b[38;5;241m+\u001b[39m(\u001b[38;5;241m1\u001b[39m\u001b[38;5;241m-\u001b[39mpredictions[i])\u001b[38;5;241m*\u001b[39mmath\u001b[38;5;241m.\u001b[39mlog(\u001b[38;5;241m1\u001b[39m\u001b[38;5;241m-\u001b[39mtarget[i])\n\u001b[1;32m      6\u001b[0m \u001b[38;5;28mprint\u001b[39m((\u001b[38;5;241m-\u001b[39m\u001b[38;5;241m1\u001b[39m)\u001b[38;5;241m*\u001b[39mloss\u001b[38;5;241m/\u001b[39m\u001b[38;5;241m5\u001b[39m)\n",
      "\u001b[0;31mValueError\u001b[0m: math domain error"
     ]
    }
   ],
   "source": [
    "predictions = np.random.randint(2,size=5)\n",
    "target = np.random.randint(2,size=5)\n",
    "loss = 0\n",
    "for i in range(5):\n",
    "    loss = loss + predictions[i]*math.log(target[i])+(1-predictions[i])*math.log(1-target[i])\n",
    "print((-1)*loss/5)"
   ]
  },
  {
   "cell_type": "markdown",
   "id": "74309e44",
   "metadata": {},
   "source": [
    "math.log() can not take values <= 0 so the function doesn't make sense :(("
   ]
  }
 ],
 "metadata": {
  "kernelspec": {
   "display_name": "Python 3 (ipykernel)",
   "language": "python",
   "name": "python3"
  },
  "language_info": {
   "codemirror_mode": {
    "name": "ipython",
    "version": 3
   },
   "file_extension": ".py",
   "mimetype": "text/x-python",
   "name": "python",
   "nbconvert_exporter": "python",
   "pygments_lexer": "ipython3",
   "version": "3.10.8"
  }
 },
 "nbformat": 4,
 "nbformat_minor": 5
}
