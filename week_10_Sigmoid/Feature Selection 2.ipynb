{
 "cells": [
  {
   "cell_type": "markdown",
   "id": "8e0b72d9",
   "metadata": {},
   "source": [
    "It can be noticed that the number of columns was reduced from 12 to 8, it means that 4 columns have a p-value less \n",
    "than 0,05"
   ]
  },
  {
   "cell_type": "code",
   "execution_count": 62,
   "id": "7f2c34ef",
   "metadata": {},
   "outputs": [
    {
     "name": "stdout",
     "output_type": "stream",
     "text": [
      "['sex', 'chest pain type', 'cholesterol', 'fasting blood sugar', 'max heart rate', 'exercise angina', 'oldpeak', 'ST slope']\n",
      "The output of r2_score is =  0.3848906013485619\n"
     ]
    }
   ],
   "source": [
    "from kydavra import PValueSelector\n",
    "from sklearn.metrics import r2_score\n",
    "from sklearn.linear_model import LogisticRegression\n",
    "import pandas as pd\n",
    "import numpy as np\n",
    "from sklearn.preprocessing import StandardScaler\n",
    "df = pd.read_csv('heart.csv')\n",
    "# print(len(df.columns))\n",
    "pvalue_selector = PValueSelector()\n",
    "selected_columns = pvalue_selector.select(df, 'target')\n",
    "# df\n",
    "new_df = pd.DataFrame(df[selected_columns])\n",
    "# print(new_df)\n",
    "from sklearn.model_selection import train_test_split\n",
    "X = new_df\n",
    "y = df['target']\n",
    "X_train, X_test, y_train, y_test = train_test_split(X, y, test_size=0.25, random_state=42)\n",
    "scaler = StandardScaler()\n",
    "X_train_scaled = scaler.fit_transform(X_train)\n",
    "X_test_scaled = scaler.transform(X_test)\n",
    "model = LogisticRegression().fit(X_train_scaled,y_train)\n",
    "output = model.predict(X_test_scaled)\n",
    "print(selected_columns)\n",
    "print('The output of r2_score is = ',r2_score(y_test,output))"
   ]
  },
  {
   "cell_type": "markdown",
   "id": "54e31570",
   "metadata": {},
   "source": [
    "Another way to visualize the p-value using statsmodels.api"
   ]
  },
  {
   "cell_type": "code",
   "execution_count": 63,
   "id": "37ba7780",
   "metadata": {},
   "outputs": [
    {
     "name": "stdout",
     "output_type": "stream",
     "text": [
      "                            OLS Regression Results                            \n",
      "==============================================================================\n",
      "Dep. Variable:                 target   R-squared:                       0.477\n",
      "Model:                            OLS   Adj. R-squared:                  0.469\n",
      "Method:                 Least Squares   F-statistic:                     65.03\n",
      "Date:                Mon, 17 Apr 2023   Prob (F-statistic):          1.27e-102\n",
      "Time:                        22:05:30   Log-Likelihood:                -320.17\n",
      "No. Observations:                 797   AIC:                             664.3\n",
      "Df Residuals:                     785   BIC:                             720.5\n",
      "Df Model:                          11                                         \n",
      "Covariance Type:            nonrobust                                         \n",
      "=======================================================================================\n",
      "                          coef    std err          t      P>|t|      [0.025      0.975]\n",
      "---------------------------------------------------------------------------------------\n",
      "const                  -0.3033      0.181     -1.672      0.095      -0.659       0.053\n",
      "age                     0.0028      0.002      1.724      0.085      -0.000       0.006\n",
      "sex                     0.1676      0.032      5.304      0.000       0.106       0.230\n",
      "chest pain type         0.1147      0.016      7.395      0.000       0.084       0.145\n",
      "resting bp s            0.0004      0.001      0.590      0.555      -0.001       0.002\n",
      "cholesterol            -0.0004      0.000     -2.604      0.009      -0.001   -9.36e-05\n",
      "fasting blood sugar     0.1085      0.033      3.262      0.001       0.043       0.174\n",
      "resting ecg             0.0096      0.015      0.623      0.533      -0.021       0.040\n",
      "max heart rate         -0.0019      0.001     -3.033      0.003      -0.003      -0.001\n",
      "exercise angina         0.1889      0.033      5.726      0.000       0.124       0.254\n",
      "oldpeak                 0.0439      0.015      2.972      0.003       0.015       0.073\n",
      "ST slope                0.2002      0.027      7.484      0.000       0.148       0.253\n",
      "==============================================================================\n",
      "Omnibus:                        0.215   Durbin-Watson:                   1.870\n",
      "Prob(Omnibus):                  0.898   Jarque-Bera (JB):                0.282\n",
      "Skew:                           0.033   Prob(JB):                        0.868\n",
      "Kurtosis:                       2.935   Cond. No.                     4.26e+03\n",
      "==============================================================================\n",
      "\n",
      "Notes:\n",
      "[1] Standard Errors assume that the covariance matrix of the errors is correctly specified.\n",
      "[2] The condition number is large, 4.26e+03. This might indicate that there are\n",
      "strong multicollinearity or other numerical problems.\n"
     ]
    }
   ],
   "source": [
    "import statsmodels.api as sm\n",
    "from sklearn.model_selection import train_test_split\n",
    "from sklearn.preprocessing import StandardScaler\n",
    "scaler = StandardScaler()\n",
    "X = df.drop('target', axis =1)\n",
    "y = df['target']\n",
    "X_train, X_test, y_train, y_test = train_test_split(X, y, test_size=0.33, random_state=42)\n",
    "X_train_sm = sm.add_constant(X_train)\n",
    "X_train_sm\n",
    "view = sm.OLS(y_train,X_train_sm).fit()\n",
    "print(view.summary())"
   ]
  },
  {
   "cell_type": "markdown",
   "id": "0d85acda",
   "metadata": {},
   "source": [
    "LassoSelector"
   ]
  },
  {
   "cell_type": "code",
   "execution_count": 65,
   "id": "48984708",
   "metadata": {},
   "outputs": [
    {
     "name": "stdout",
     "output_type": "stream",
     "text": [
      "['sex', 'chest pain type', 'fasting blood sugar', 'resting ecg', 'exercise angina', 'oldpeak', 'ST slope']\n",
      "The output of r2_score is =  0.3848906013485619\n"
     ]
    }
   ],
   "source": [
    "from kydavra import LassoSelector\n",
    "import warnings\n",
    "warnings.filterwarnings('ignore')\n",
    "lasso = LassoSelector()\n",
    "selected_columns = lasso.select(df, 'target')\n",
    "new_df = pd.DataFrame(df[selected_columns])\n",
    "# print(new_df)\n",
    "from sklearn.model_selection import train_test_split\n",
    "X = new_df\n",
    "y = df['target']\n",
    "X_train, X_test, y_train, y_test = train_test_split(X, y, test_size=0.25, random_state=42)\n",
    "scaler = StandardScaler()\n",
    "X_train_scaled = scaler.fit_transform(X_train)\n",
    "X_test_scaled = scaler.transform(X_test)\n",
    "model = LogisticRegression().fit(X_train_scaled,y_train)\n",
    "output = model.predict(X_test_scaled)\n",
    "print(selected_columns)\n",
    "print('The output of r2_score is = ',r2_score(y_test,output))"
   ]
  },
  {
   "cell_type": "markdown",
   "id": "31a99181",
   "metadata": {},
   "source": [
    "Pear-sonCorrelationSelector"
   ]
  },
  {
   "cell_type": "code",
   "execution_count": 67,
   "id": "405de86a",
   "metadata": {},
   "outputs": [
    {
     "name": "stdout",
     "output_type": "stream",
     "text": [
      "['ST slope']\n",
      "The output of r2_score is =  0.13884684188798668\n"
     ]
    }
   ],
   "source": [
    "from kydavra import PearsonCorrelationSelector\n",
    "from sklearn.preprocessing import StandardScaler\n",
    "scaler = StandardScaler()\n",
    "scaler.fit(df)\n",
    "new_df = scaler.transform(df)\n",
    "new_df = pd.DataFrame(new_df,columns = df.columns)\n",
    "pearson = PearsonCorrelationSelector()\n",
    "selected_columns = pearson.select(new_df,'target')\n",
    "# print(selected_column)\n",
    "new_df = pd.DataFrame(df[selected_columns])\n",
    "# print(new_df)\n",
    "from sklearn.model_selection import train_test_split\n",
    "X = new_df\n",
    "y = df['target']\n",
    "X_train, X_test, y_train, y_test = train_test_split(X, y, test_size=0.25, random_state=42)\n",
    "scaler = StandardScaler()\n",
    "X_train_scaled = scaler.fit_transform(X_train)\n",
    "X_test_scaled = scaler.transform(X_test)\n",
    "model = LogisticRegression().fit(X_train_scaled,y_train)\n",
    "output = model.predict(X_test_scaled)\n",
    "print(selected_columns)\n",
    "print('The output of r2_score is = ',r2_score(y_test,output))"
   ]
  },
  {
   "cell_type": "markdown",
   "id": "523664a1",
   "metadata": {},
   "source": [
    "PointBiserialCorrSelector - comparing dichotomous data to continuous data"
   ]
  },
  {
   "cell_type": "code",
   "execution_count": 71,
   "id": "e9c70630",
   "metadata": {},
   "outputs": [
    {
     "name": "stdout",
     "output_type": "stream",
     "text": [
      "['ST slope', 'chest pain type', 'max heart rate', 'exercise angina']\n",
      "The output of r2_score is =  0.26186872161827424\n"
     ]
    }
   ],
   "source": [
    "from kydavra import PointBiserialCorrSelector\n",
    "point_biserial = PointBiserialCorrSelector()\n",
    "selected_columns = point_biserial.select(df, 'target')\n",
    "# selected_column\n",
    "new_df = pd.DataFrame(df[selected_columns])\n",
    "# print(new_df)\n",
    "from sklearn.model_selection import train_test_split\n",
    "X = new_df\n",
    "y = df['target']\n",
    "X_train, X_test, y_train, y_test = train_test_split(X, y, test_size=0.25, random_state=42)\n",
    "model = LogisticRegression().fit(X_train,y_train)\n",
    "output = model.predict(X_test)\n",
    "print(selected_columns)\n",
    "print('The output of r2_score is = ',r2_score(y_test,output))"
   ]
  },
  {
   "cell_type": "markdown",
   "id": "a4ca7834",
   "metadata": {},
   "source": [
    "Combine all feature selection methods"
   ]
  },
  {
   "cell_type": "code",
   "execution_count": 106,
   "id": "a78f5f72",
   "metadata": {},
   "outputs": [
    {
     "name": "stdout",
     "output_type": "stream",
     "text": [
      "[0.25201665]\n",
      "             0\n",
      "0    -2.603235\n",
      "1    -0.751117\n",
      "2    -1.529505\n",
      "3     1.118272\n",
      "4    -0.751604\n",
      "...        ...\n",
      "1185 -1.298599\n",
      "1186  2.038180\n",
      "1187  1.701523\n",
      "1188 -1.625701\n",
      "1189 -2.188101\n",
      "\n",
      "[1190 rows x 1 columns]\n",
      "The output of r2_score is =  0.3438833081051327\n"
     ]
    }
   ],
   "source": [
    "from sklearn.decomposition import PCA\n",
    "df = pd.read_csv('heart.csv')\n",
    "Xz = df.drop('target', axis = 1)\n",
    "scaler = StandardScaler()\n",
    "df1 = scaler.fit_transform(Xz)\n",
    "pca = PCA(n_components=1)\n",
    "# Xz = df.drop('target', axis = 1)\n",
    "pca.fit(df1)\n",
    "pca_X = pca.transform(df1)\n",
    "pca_X = pd.DataFrame(pca_X)\n",
    "print(pca.explained_variance_ratio_)\n",
    "print(pca_X)\n",
    "from sklearn.model_selection import train_test_split\n",
    "X = pca_X.copy()\n",
    "y = df['target']\n",
    "# print(y)\n",
    "X_train, X_test, y_train, y_test = train_test_split(X, y, test_size=0.25, random_state=42)\n",
    "# scaler = StandardScaler()\n",
    "# X_train_scaled = scaler.fit_transform(X_train)\n",
    "# X_test_scaled = scaler.transform(X_test)\n",
    "model = LogisticRegression().fit(X_train,y_train)\n",
    "output = model.predict(X_test)\n",
    "print('The output of r2_score is = ',r2_score(y_test,output))"
   ]
  },
  {
   "cell_type": "markdown",
   "id": "189c449f",
   "metadata": {},
   "source": [
    "It can be noticed that using PCA we get the best reslut using the smallest number of information(columns)"
   ]
  },
  {
   "cell_type": "code",
   "execution_count": null,
   "id": "dc744552",
   "metadata": {},
   "outputs": [],
   "source": []
  }
 ],
 "metadata": {
  "kernelspec": {
   "display_name": "Python 3 (ipykernel)",
   "language": "python",
   "name": "python3"
  },
  "language_info": {
   "codemirror_mode": {
    "name": "ipython",
    "version": 3
   },
   "file_extension": ".py",
   "mimetype": "text/x-python",
   "name": "python",
   "nbconvert_exporter": "python",
   "pygments_lexer": "ipython3",
   "version": "3.10.9"
  }
 },
 "nbformat": 4,
 "nbformat_minor": 5
}
