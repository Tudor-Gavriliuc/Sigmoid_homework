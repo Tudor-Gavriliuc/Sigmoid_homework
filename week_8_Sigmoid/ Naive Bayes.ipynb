{
 "cells": [
  {
   "cell_type": "markdown",
   "id": "a75e59d7",
   "metadata": {},
   "source": [
    "# Load the selected Data Set /  Analyze and Preprocess your data"
   ]
  },
  {
   "cell_type": "code",
   "execution_count": 180,
   "id": "9f68c608",
   "metadata": {
    "collapsed": true
   },
   "outputs": [
    {
     "name": "stdout",
     "output_type": "stream",
     "text": [
      "      gender  SeniorCitizen  Partner  Dependents  tenure  PhoneService  \\\n",
      "0          0              0        1           0       1             0   \n",
      "1          1              0        0           0      34             1   \n",
      "2          1              0        0           0       2             1   \n",
      "3          1              0        0           0      45             0   \n",
      "4          0              0        0           0       2             1   \n",
      "...      ...            ...      ...         ...     ...           ...   \n",
      "7036       0              0        0           0      12             0   \n",
      "7038       1              0        1           1      24             1   \n",
      "7040       0              0        1           1      11             0   \n",
      "7041       1              1        1           0       4             1   \n",
      "7042       1              0        0           0      66             1   \n",
      "\n",
      "      MultipleLines  InternetService  OnlineSecurity  OnlineBackup  \\\n",
      "0                 2              0.0             0.0           1.0   \n",
      "1                 0              0.0             1.0           0.0   \n",
      "2                 0              0.0             1.0           1.0   \n",
      "3                 2              0.0             1.0           0.0   \n",
      "4                 0              1.0             0.0           0.0   \n",
      "...             ...              ...             ...           ...   \n",
      "7036              2              0.0             0.0           1.0   \n",
      "7038              1              0.0             1.0           0.0   \n",
      "7040              2              0.0             1.0           0.0   \n",
      "7041              1              1.0             0.0           0.0   \n",
      "7042              0              1.0             1.0           0.0   \n",
      "\n",
      "      DeviceProtection  TechSupport  StreamingTV  StreamingMovies  Contract  \\\n",
      "0                  0.0          0.0          0.0              0.0         0   \n",
      "1                  1.0          0.0          0.0              0.0         1   \n",
      "2                  0.0          0.0          0.0              0.0         0   \n",
      "3                  1.0          1.0          0.0              0.0         1   \n",
      "4                  0.0          0.0          0.0              0.0         0   \n",
      "...                ...          ...          ...              ...       ...   \n",
      "7036               1.0          1.0          1.0              1.0         1   \n",
      "7038               1.0          1.0          1.0              1.0         1   \n",
      "7040               0.0          0.0          0.0              0.0         0   \n",
      "7041               0.0          0.0          0.0              0.0         0   \n",
      "7042               1.0          1.0          1.0              1.0         2   \n",
      "\n",
      "      PaperlessBilling  PaymentMethod  MonthlyCharges TotalCharges Churn  \n",
      "0                    1            0.0           29.85        29.85    No  \n",
      "1                    0            1.0           56.95       1889.5    No  \n",
      "2                    1            1.0           53.85       108.15   Yes  \n",
      "3                    0            2.0           42.30      1840.75    No  \n",
      "4                    1            0.0           70.70       151.65   Yes  \n",
      "...                ...            ...             ...          ...   ...  \n",
      "7036                 0            0.0           60.65        743.3    No  \n",
      "7038                 1            1.0           84.80       1990.5    No  \n",
      "7040                 1            0.0           29.60       346.45    No  \n",
      "7041                 1            1.0           74.40        306.6   Yes  \n",
      "7042                 1            2.0          105.65       6844.5    No  \n",
      "\n",
      "[4326 rows x 20 columns]\n"
     ]
    }
   ],
   "source": [
    "import pandas as pd\n",
    "import numpy as np\n",
    "from sklearn.preprocessing import StandardScaler\n",
    "from sklearn.model_selection import train_test_split\n",
    "df = pd.read_csv('Naive.csv')\n",
    "# df_copy = df.copy(deep=True)\n",
    "df.drop('customerID', axis = 1, inplace=True)\n",
    "# df_copy.drop('customerID', axis = 1, inplace=True)\n",
    "df['gender'] = df['gender'].map({'Female' : 0, 'Male' : 1})\n",
    "df['Partner'] = df['Partner'].map({'No' : 0, 'Yes' : 1})\n",
    "df['Dependents'] = df['Dependents'].map({'No' : 0, 'Yes' : 1})\n",
    "df['PhoneService'] = df['PhoneService'].map({'No' : 0, 'Yes' : 1})\n",
    "df['MultipleLines'] = df['MultipleLines'].map({'No' : 0, 'Yes' : 1, 'No phone service' : 2})\n",
    "df['InternetService'] = df['InternetService'].map({'DSL' : 0, 'Fiber optic' : 1})\n",
    "df['OnlineSecurity'] = df['OnlineSecurity'].map({'No' : 0, 'Yes' : 1})\n",
    "df['OnlineBackup'] = df['OnlineBackup'].map({'No' : 0, 'Yes' : 1})\n",
    "df['DeviceProtection'] = df['DeviceProtection'].map({'No' : 0, 'Yes' : 1})\n",
    "df['TechSupport'] = df['TechSupport'].map({'No' : 0, 'Yes' : 1})\n",
    "df['StreamingTV'] = df['StreamingTV'].map({'No' : 0, 'Yes' : 1})\n",
    "df['StreamingMovies'] = df['StreamingMovies'].map({'No' : 0, 'Yes' : 1})\n",
    "df['PaperlessBilling'] = df['PaperlessBilling'].map({'No' : 0, 'Yes' : 1})\n",
    "df['PaymentMethod'] = df['PaymentMethod'].map({'Electronic check' : 0, 'Mailed check' : 1, 'Bank transfer (automatic)' : 2})\n",
    "df['Contract'] = df['Contract'].map({'Month-to-month' : 0, 'One year' : 1, 'Two year' : 2})\n",
    "df = df.dropna()\n",
    "print(df)\n",
    "# df.head(10)"
   ]
  },
  {
   "cell_type": "markdown",
   "id": "db794bd6",
   "metadata": {},
   "source": [
    "#  Split the data set into the train and test set"
   ]
  },
  {
   "cell_type": "code",
   "execution_count": 222,
   "id": "ec4a9479",
   "metadata": {
    "collapsed": true
   },
   "outputs": [
    {
     "name": "stdout",
     "output_type": "stream",
     "text": [
      " \n",
      "      gender  SeniorCitizen  Partner  Dependents    tenure  PhoneService  \\\n",
      "0          0              0        1           0  1.804746             0   \n",
      "1          1              0        0           0  3.174537             1   \n",
      "2          1              0        0           0  1.846255             1   \n",
      "3          1              0        0           0  3.631133             0   \n",
      "4          0              0        0           0  1.846255             1   \n",
      "...      ...            ...      ...         ...       ...           ...   \n",
      "7036       0              0        0           0  2.261343             0   \n",
      "7038       1              0        1           1  2.759449             1   \n",
      "7040       0              0        1           1  2.219834             0   \n",
      "7041       1              1        1           0  1.929273             1   \n",
      "7042       1              0        0           0  4.502818             1   \n",
      "\n",
      "      MultipleLines  InternetService  OnlineSecurity  OnlineBackup  \\\n",
      "0                 2              0.0             0.0           1.0   \n",
      "1                 0              0.0             1.0           0.0   \n",
      "2                 0              0.0             1.0           1.0   \n",
      "3                 2              0.0             1.0           0.0   \n",
      "4                 0              1.0             0.0           0.0   \n",
      "...             ...              ...             ...           ...   \n",
      "7036              2              0.0             0.0           1.0   \n",
      "7038              1              0.0             1.0           0.0   \n",
      "7040              2              0.0             1.0           0.0   \n",
      "7041              1              1.0             0.0           0.0   \n",
      "7042              0              1.0             1.0           0.0   \n",
      "\n",
      "      DeviceProtection  TechSupport  StreamingTV  StreamingMovies  Contract  \\\n",
      "0                  0.0          0.0          0.0              0.0         0   \n",
      "1                  1.0          0.0          0.0              0.0         1   \n",
      "2                  0.0          0.0          0.0              0.0         0   \n",
      "3                  1.0          1.0          0.0              0.0         1   \n",
      "4                  0.0          0.0          0.0              0.0         0   \n",
      "...                ...          ...          ...              ...       ...   \n",
      "7036               1.0          1.0          1.0              1.0         1   \n",
      "7038               1.0          1.0          1.0              1.0         1   \n",
      "7040               0.0          0.0          0.0              0.0         0   \n",
      "7041               0.0          0.0          0.0              0.0         0   \n",
      "7042               1.0          1.0          1.0              1.0         2   \n",
      "\n",
      "      PaperlessBilling  PaymentMethod  MonthlyCharges  TotalCharges  \n",
      "0                    1            0.0        0.884910      1.933100  \n",
      "1                    0            1.0        2.120545      2.747589  \n",
      "2                    1            1.0        1.979199      1.967394  \n",
      "3                    0            2.0        1.452573      2.726237  \n",
      "4                    1            0.0        2.747482      1.986446  \n",
      "...                ...            ...             ...           ...  \n",
      "7036                 0            0.0        2.289248      2.245577  \n",
      "7038                 1            1.0        3.390377      2.791824  \n",
      "7040                 1            0.0        0.873511      2.071764  \n",
      "7041                 1            1.0        2.916184      2.054311  \n",
      "7042                 1            2.0        4.341040      4.917776  \n",
      "\n",
      "[4326 rows x 19 columns]\n"
     ]
    }
   ],
   "source": [
    "x = df.drop('Churn', axis = 1)\n",
    "y = df['Churn']\n",
    "cols_to_standardize = ['MonthlyCharges','tenure','TotalCharges']\n",
    "# I have found that the 488 cell is empty :(, thats why we can not standartize our column, it is a empty string column\n",
    "print(x.loc[488,'TotalCharges'])\n",
    "# print(x.loc[[487,488,489],'TotalCharges'])\n",
    "def delete_string_cells(cell):\n",
    "    if isinstance(cell, str) and cell == \" \":\n",
    "        return 0\n",
    "    else:\n",
    "        return cell\n",
    "x['TotalCharges'] = x['TotalCharges'].apply(delete_string_cells)\n",
    "x['TotalCharges'] = pd.to_numeric(x['TotalCharges'])\n",
    "# x.info()\n",
    "# Create a StandardScaler object\n",
    "scaler = StandardScaler()\n",
    "# #Fit and transform the selected columns using the scaler object\n",
    "x[cols_to_standardize] = scaler.fit_transform(x[cols_to_standardize])\n",
    "# Add 3 for each value of the following collumns since there are negative values after standardization\n",
    "x['tenure'] = x['tenure'].add(3)\n",
    "x['MonthlyCharges'] = x['MonthlyCharges'].add(3)\n",
    "x['TotalCharges'] = x['TotalCharges'].add(3)\n",
    "print(x)\n",
    "# # print(x['TotalCharges'].isna().sum())"
   ]
  },
  {
   "cell_type": "code",
   "execution_count": 223,
   "id": "7f364210",
   "metadata": {
    "collapsed": true
   },
   "outputs": [
    {
     "name": "stdout",
     "output_type": "stream",
     "text": [
      "      gender  SeniorCitizen  Partner  Dependents    tenure  PhoneService  \\\n",
      "1811       0              1        0           0  2.717940             1   \n",
      "1644       0              0        0           0  3.174537             1   \n",
      "5468       0              0        0           0  2.053799             1   \n",
      "139        0              1        1           0  1.804746             1   \n",
      "2483       1              1        1           1  3.672642             1   \n",
      "...      ...            ...      ...         ...       ...           ...   \n",
      "4749       1              0        0           0  1.970782             1   \n",
      "4531       1              0        1           1  2.136817             1   \n",
      "1488       1              0        0           0  1.804746             1   \n",
      "6505       1              0        1           1  4.087730             1   \n",
      "381        1              0        0           0  1.804746             1   \n",
      "\n",
      "      MultipleLines  InternetService  OnlineSecurity  OnlineBackup  \\\n",
      "1811              1              1.0             0.0           0.0   \n",
      "1644              1              1.0             1.0           1.0   \n",
      "5468              0              1.0             0.0           0.0   \n",
      "139               0              1.0             0.0           0.0   \n",
      "2483              1              1.0             1.0           1.0   \n",
      "...             ...              ...             ...           ...   \n",
      "4749              0              0.0             0.0           0.0   \n",
      "4531              1              1.0             0.0           0.0   \n",
      "1488              0              0.0             1.0           0.0   \n",
      "6505              0              0.0             1.0           1.0   \n",
      "381               0              0.0             0.0           1.0   \n",
      "\n",
      "      DeviceProtection  TechSupport  StreamingTV  StreamingMovies  Contract  \\\n",
      "1811               1.0          0.0          0.0              0.0         0   \n",
      "1644               1.0          0.0          1.0              1.0         0   \n",
      "5468               0.0          0.0          1.0              0.0         0   \n",
      "139                0.0          0.0          0.0              0.0         0   \n",
      "2483               1.0          0.0          1.0              0.0         0   \n",
      "...                ...          ...          ...              ...       ...   \n",
      "4749               0.0          1.0          0.0              0.0         0   \n",
      "4531               1.0          0.0          0.0              0.0         0   \n",
      "1488               0.0          0.0          0.0              0.0         0   \n",
      "6505               1.0          0.0          0.0              0.0         2   \n",
      "381                0.0          0.0          0.0              0.0         0   \n",
      "\n",
      "      PaperlessBilling  PaymentMethod  MonthlyCharges  TotalCharges  \n",
      "1811                 1            1.0        3.141882      2.723850  \n",
      "1644                 1            1.0        4.530261      3.491168  \n",
      "5468                 1            0.0        3.157840      2.176704  \n",
      "139                  1            1.0        2.736083      1.950882  \n",
      "2483                 1            0.0        4.115343      3.908978  \n",
      "...                ...            ...             ...           ...  \n",
      "4749                 1            0.0        1.767181      2.015024  \n",
      "4531                 1            2.0        3.141882      2.209640  \n",
      "1488                 0            1.0        1.860651      1.942473  \n",
      "6505                 1            2.0        2.250492      3.434318  \n",
      "381                  0            1.0        1.833294      1.942210  \n",
      "\n",
      "[3244 rows x 19 columns]\n"
     ]
    }
   ],
   "source": [
    "X_train,X_test, y_train, y_test = train_test_split(x,y, random_state=1)\n",
    "# print(df.shape)\n",
    "# print(X_train.shape)\n",
    "# print(X_test.shape)\n",
    "# X_test = X_test.dropna()\n",
    "print(X_train)"
   ]
  },
  {
   "cell_type": "markdown",
   "id": "9b7d57c8",
   "metadata": {},
   "source": [
    "# Create an instance of Gaussian Naive Bayes / Get the accuracy of model"
   ]
  },
  {
   "cell_type": "code",
   "execution_count": 227,
   "id": "0fcf2d37",
   "metadata": {},
   "outputs": [
    {
     "data": {
      "text/plain": [
       "0.6977818853974121"
      ]
     },
     "execution_count": 227,
     "metadata": {},
     "output_type": "execute_result"
    }
   ],
   "source": [
    "from sklearn.metrics import accuracy_score\n",
    "from sklearn.naive_bayes import GaussianNB\n",
    "gaussian = GaussianNB()\n",
    "gaussian.fit(X_train,y_train)\n",
    "output = gaussian.predict(X_test)\n",
    "result = accuracy_score(y_test, output)\n",
    "result                 \n"
   ]
  },
  {
   "cell_type": "markdown",
   "id": "9800ad66",
   "metadata": {},
   "source": [
    "# Create an instance of Multinomial Naive Bayes / Get the accuracy of model"
   ]
  },
  {
   "cell_type": "code",
   "execution_count": null,
   "id": "5aadaf48",
   "metadata": {},
   "outputs": [],
   "source": [
    "from sklearn.naive_bayes import MultinomialNB\n",
    "multinomial = MultinomialNB()\n",
    "multinomial.fit(X_train,y_train)\n",
    "output2 = multinomial.predict(X_test)\n",
    "result2 = accuracy_score(y_test,output2)\n",
    "result2\n"
   ]
  },
  {
   "cell_type": "markdown",
   "id": "1ffe6a56",
   "metadata": {},
   "source": [
    "#  Create an instance of Bernoulli Naive Bayes / Get the accuracy of model"
   ]
  },
  {
   "cell_type": "code",
   "execution_count": 228,
   "id": "095100a5",
   "metadata": {},
   "outputs": [
    {
     "data": {
      "text/plain": [
       "0.7097966728280961"
      ]
     },
     "execution_count": 228,
     "metadata": {},
     "output_type": "execute_result"
    }
   ],
   "source": [
    "from sklearn.naive_bayes import BernoulliNB\n",
    "bernuli = BernoulliNB()\n",
    "bernuli.fit(X_train,y_train)\n",
    "output3 = bernuli.predict(X_test)\n",
    "result3 = accuracy_score(y_test,output3)\n",
    "result3\n"
   ]
  },
  {
   "cell_type": "markdown",
   "id": "da4b4372",
   "metadata": {},
   "source": [
    "# Create a table of the following structure as a pandas data frame."
   ]
  },
  {
   "cell_type": "code",
   "execution_count": 230,
   "id": "619af27d",
   "metadata": {},
   "outputs": [
    {
     "data": {
      "text/html": [
       "<div>\n",
       "<style scoped>\n",
       "    .dataframe tbody tr th:only-of-type {\n",
       "        vertical-align: middle;\n",
       "    }\n",
       "\n",
       "    .dataframe tbody tr th {\n",
       "        vertical-align: top;\n",
       "    }\n",
       "\n",
       "    .dataframe thead th {\n",
       "        text-align: right;\n",
       "    }\n",
       "</style>\n",
       "<table border=\"1\" class=\"dataframe\">\n",
       "  <thead>\n",
       "    <tr style=\"text-align: right;\">\n",
       "      <th></th>\n",
       "      <th>ML Model</th>\n",
       "      <th>Accuracy</th>\n",
       "    </tr>\n",
       "  </thead>\n",
       "  <tbody>\n",
       "    <tr>\n",
       "      <th>0</th>\n",
       "      <td>GaussianNB</td>\n",
       "      <td>0.697782</td>\n",
       "    </tr>\n",
       "    <tr>\n",
       "      <th>1</th>\n",
       "      <td>MultinomialNB</td>\n",
       "      <td>0.718115</td>\n",
       "    </tr>\n",
       "    <tr>\n",
       "      <th>2</th>\n",
       "      <td>BernoulliNB</td>\n",
       "      <td>0.709797</td>\n",
       "    </tr>\n",
       "  </tbody>\n",
       "</table>\n",
       "</div>"
      ],
      "text/plain": [
       "        ML Model  Accuracy\n",
       "0     GaussianNB  0.697782\n",
       "1  MultinomialNB  0.718115\n",
       "2    BernoulliNB  0.709797"
      ]
     },
     "execution_count": 230,
     "metadata": {},
     "output_type": "execute_result"
    }
   ],
   "source": [
    "data = [['GaussianNB', result], ['MultinomialNB', result2], ['BernoulliNB', result3]]\n",
    "df_view = pd.DataFrame(data, columns=['ML Model','Accuracy'])\n",
    "df_view"
   ]
  },
  {
   "cell_type": "markdown",
   "id": "aa4a3d2a",
   "metadata": {},
   "source": [
    "# It can be noticed that MultinomialNB works better than others."
   ]
  },
  {
   "cell_type": "code",
   "execution_count": null,
   "id": "b7b0cced",
   "metadata": {},
   "outputs": [],
   "source": []
  }
 ],
 "metadata": {
  "kernelspec": {
   "display_name": "Python 3 (ipykernel)",
   "language": "python",
   "name": "python3"
  },
  "language_info": {
   "codemirror_mode": {
    "name": "ipython",
    "version": 3
   },
   "file_extension": ".py",
   "mimetype": "text/x-python",
   "name": "python",
   "nbconvert_exporter": "python",
   "pygments_lexer": "ipython3",
   "version": "3.10.9"
  }
 },
 "nbformat": 4,
 "nbformat_minor": 5
}
