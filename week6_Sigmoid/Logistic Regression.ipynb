{
 "cells": [
  {
   "cell_type": "markdown",
   "id": "25286318",
   "metadata": {},
   "source": [
    "Study the correlation between features, find the features subset with\n",
    "the highest correlation with the target column, and try to explain from\n",
    "the business point of view why they have such a big correlation."
   ]
  },
  {
   "cell_type": "code",
   "execution_count": 2,
   "id": "1dbdf1e1",
   "metadata": {},
   "outputs": [
    {
     "data": {
      "text/plain": [
       "age                    0.262029\n",
       "sex                    0.311267\n",
       "chest pain type        0.460127\n",
       "resting bp s           0.121415\n",
       "cholesterol           -0.198366\n",
       "fasting blood sugar    0.216695\n",
       "resting ecg            0.073059\n",
       "max heart rate        -0.413278\n",
       "exercise angina        0.481467\n",
       "oldpeak                0.398385\n",
       "ST slope               0.505608\n",
       "target                 1.000000\n",
       "dtype: float64"
      ]
     },
     "execution_count": 2,
     "metadata": {},
     "output_type": "execute_result"
    }
   ],
   "source": [
    "import pandas as pd\n",
    "import numpy as np\n",
    "#read the csv file\n",
    "df = pd.read_csv('heart.csv')\n",
    "meta = df['target']\n",
    "#print the correlation toward target column\n",
    "meta = df.corrwith(meta)\n",
    "meta\n",
    "# df = preprocessing.normalize(df)\n",
    "# meta = preprocessing.normalize(meta)\n",
    "# meta\n",
    "#It can be noticed that people with angina tend to have heart diseases"
   ]
  },
  {
   "cell_type": "markdown",
   "id": "99b52e9f",
   "metadata": {},
   "source": [
    "Create a second set of data with the columns that have an absolute\n",
    "correlation between 0.5 and 0.8 with the target column."
   ]
  },
  {
   "cell_type": "code",
   "execution_count": 3,
   "id": "c318fb52",
   "metadata": {},
   "outputs": [
    {
     "data": {
      "text/html": [
       "<div>\n",
       "<style scoped>\n",
       "    .dataframe tbody tr th:only-of-type {\n",
       "        vertical-align: middle;\n",
       "    }\n",
       "\n",
       "    .dataframe tbody tr th {\n",
       "        vertical-align: top;\n",
       "    }\n",
       "\n",
       "    .dataframe thead th {\n",
       "        text-align: right;\n",
       "    }\n",
       "</style>\n",
       "<table border=\"1\" class=\"dataframe\">\n",
       "  <thead>\n",
       "    <tr style=\"text-align: right;\">\n",
       "      <th></th>\n",
       "      <th>0</th>\n",
       "    </tr>\n",
       "  </thead>\n",
       "  <tbody>\n",
       "    <tr>\n",
       "      <th>0</th>\n",
       "      <td>0.262029</td>\n",
       "    </tr>\n",
       "    <tr>\n",
       "      <th>1</th>\n",
       "      <td>0.311267</td>\n",
       "    </tr>\n",
       "    <tr>\n",
       "      <th>2</th>\n",
       "      <td>0.460127</td>\n",
       "    </tr>\n",
       "    <tr>\n",
       "      <th>3</th>\n",
       "      <td>0.216695</td>\n",
       "    </tr>\n",
       "    <tr>\n",
       "      <th>4</th>\n",
       "      <td>0.481467</td>\n",
       "    </tr>\n",
       "    <tr>\n",
       "      <th>5</th>\n",
       "      <td>0.398385</td>\n",
       "    </tr>\n",
       "  </tbody>\n",
       "</table>\n",
       "</div>"
      ],
      "text/plain": [
       "          0\n",
       "0  0.262029\n",
       "1  0.311267\n",
       "2  0.460127\n",
       "3  0.216695\n",
       "4  0.481467\n",
       "5  0.398385"
      ]
     },
     "execution_count": 3,
     "metadata": {},
     "output_type": "execute_result"
    }
   ],
   "source": [
    "lista = []\n",
    "k = 0\n",
    "for i in meta:\n",
    "    if 0.2<i<0.5:\n",
    "        lista.append(i)\n",
    "new_df = pd.DataFrame(lista)\n",
    "new_df\n"
   ]
  },
  {
   "cell_type": "markdown",
   "id": "2434c985",
   "metadata": {},
   "source": [
    "Split the data into 2 sub-sets using the train test split function from\n",
    "sklearn."
   ]
  },
  {
   "cell_type": "code",
   "execution_count": 4,
   "id": "9bfe6463",
   "metadata": {},
   "outputs": [],
   "source": [
    "from sklearn.model_selection import train_test_split\n",
    "X = df.drop('target', axis=1)\n",
    "Y = df['target']\n",
    "X_train, X_test ,y_train,y_test = train_test_split(X,Y,test_size = 0.3 , random_state=0)\n",
    "#y_test"
   ]
  },
  {
   "cell_type": "code",
   "execution_count": 7,
   "id": "49ccd725",
   "metadata": {},
   "outputs": [
    {
     "name": "stderr",
     "output_type": "stream",
     "text": [
      "/home/tudor/.local/lib/python3.10/site-packages/sklearn/linear_model/_logistic.py:458: ConvergenceWarning: lbfgs failed to converge (status=1):\n",
      "STOP: TOTAL NO. of ITERATIONS REACHED LIMIT.\n",
      "\n",
      "Increase the number of iterations (max_iter) or scale the data as shown in:\n",
      "    https://scikit-learn.org/stable/modules/preprocessing.html\n",
      "Please also refer to the documentation for alternative solver options:\n",
      "    https://scikit-learn.org/stable/modules/linear_model.html#logistic-regression\n",
      "  n_iter_i = _check_optimize_result(\n"
     ]
    },
    {
     "data": {
      "text/html": [
       "<div>\n",
       "<style scoped>\n",
       "    .dataframe tbody tr th:only-of-type {\n",
       "        vertical-align: middle;\n",
       "    }\n",
       "\n",
       "    .dataframe tbody tr th {\n",
       "        vertical-align: top;\n",
       "    }\n",
       "\n",
       "    .dataframe thead th {\n",
       "        text-align: right;\n",
       "    }\n",
       "</style>\n",
       "<table border=\"1\" class=\"dataframe\">\n",
       "  <thead>\n",
       "    <tr style=\"text-align: right;\">\n",
       "      <th></th>\n",
       "      <th>0</th>\n",
       "    </tr>\n",
       "  </thead>\n",
       "  <tbody>\n",
       "    <tr>\n",
       "      <th>0</th>\n",
       "      <td>1</td>\n",
       "    </tr>\n",
       "    <tr>\n",
       "      <th>1</th>\n",
       "      <td>1</td>\n",
       "    </tr>\n",
       "    <tr>\n",
       "      <th>2</th>\n",
       "      <td>1</td>\n",
       "    </tr>\n",
       "    <tr>\n",
       "      <th>3</th>\n",
       "      <td>1</td>\n",
       "    </tr>\n",
       "    <tr>\n",
       "      <th>4</th>\n",
       "      <td>1</td>\n",
       "    </tr>\n",
       "    <tr>\n",
       "      <th>5</th>\n",
       "      <td>1</td>\n",
       "    </tr>\n",
       "    <tr>\n",
       "      <th>6</th>\n",
       "      <td>1</td>\n",
       "    </tr>\n",
       "    <tr>\n",
       "      <th>7</th>\n",
       "      <td>0</td>\n",
       "    </tr>\n",
       "    <tr>\n",
       "      <th>8</th>\n",
       "      <td>1</td>\n",
       "    </tr>\n",
       "    <tr>\n",
       "      <th>9</th>\n",
       "      <td>1</td>\n",
       "    </tr>\n",
       "  </tbody>\n",
       "</table>\n",
       "</div>"
      ],
      "text/plain": [
       "   0\n",
       "0  1\n",
       "1  1\n",
       "2  1\n",
       "3  1\n",
       "4  1\n",
       "5  1\n",
       "6  1\n",
       "7  0\n",
       "8  1\n",
       "9  1"
      ]
     },
     "execution_count": 7,
     "metadata": {},
     "output_type": "execute_result"
    }
   ],
   "source": [
    "from sklearn.linear_model import LogisticRegression\n",
    "from sklearn import preprocessing\n",
    "# train the model based on initial dataframe df\n",
    "mod = LogisticRegression()\n",
    "mod.fit(X_train,y_train)\n",
    "output = mod.predict(X_test)\n",
    "pd.DataFrame(output).head(10)\n"
   ]
  },
  {
   "cell_type": "markdown",
   "id": "f8ac6139",
   "metadata": {},
   "source": [
    "Test the models on the test sets from the initial data set. For error,\n",
    "metric use the accuracy score function from sklearn.metrics."
   ]
  },
  {
   "cell_type": "code",
   "execution_count": 9,
   "id": "3d86ad6d",
   "metadata": {},
   "outputs": [
    {
     "data": {
      "text/plain": [
       "0.8123249299719888"
      ]
     },
     "execution_count": 9,
     "metadata": {},
     "output_type": "execute_result"
    }
   ],
   "source": [
    " from sklearn.metrics import accuracy_score\n",
    "accuracy_score(y_test,output)"
   ]
  },
  {
   "cell_type": "markdown",
   "id": "e545b6bf",
   "metadata": {},
   "source": [
    "Split the data with the selected columns into 2 sub-sets using the\n",
    "train test split function from sklearn"
   ]
  },
  {
   "cell_type": "code",
   "execution_count": 11,
   "id": "54bbe9f5",
   "metadata": {
    "collapsed": true
   },
   "outputs": [
    {
     "name": "stdout",
     "output_type": "stream",
     "text": [
      "      age  sex  chest pain type  resting bp s  cholesterol  \\\n",
      "387    42    1                4           145            0   \n",
      "347    59    1                4           120            0   \n",
      "408    62    1                4           115            0   \n",
      "909    58    1                2           120          284   \n",
      "134    61    0                4           130          294   \n",
      "...   ...  ...              ...           ...          ...   \n",
      "1158   66    1                4           160          228   \n",
      "613    62    1                1           135          139   \n",
      "876    43    1                4           150          247   \n",
      "662    58    1                3           140          211   \n",
      "591    63    1                2           136          165   \n",
      "\n",
      "      fasting blood sugar  resting ecg  max heart rate  exercise angina  \\\n",
      "387                     0            0              99                1   \n",
      "347                     0            0             115                0   \n",
      "408                     1            0              72                1   \n",
      "909                     0            2             160                0   \n",
      "134                     0            1             120                1   \n",
      "...                   ...          ...             ...              ...   \n",
      "1158                    0            2             138                0   \n",
      "613                     0            1             137                0   \n",
      "876                     0            0             171                0   \n",
      "662                     1            2             165                0   \n",
      "591                     0            1             133                0   \n",
      "\n",
      "      oldpeak  ST slope  \n",
      "387       0.0         2  \n",
      "347       0.0         2  \n",
      "408      -0.5         2  \n",
      "909       1.8         2  \n",
      "134       1.0         2  \n",
      "...       ...       ...  \n",
      "1158      2.3         1  \n",
      "613       0.2         1  \n",
      "876       1.5         1  \n",
      "662       0.0         1  \n",
      "591       0.2         1  \n",
      "\n",
      "[583 rows x 11 columns]\n",
      "      age  sex  chest pain type  resting bp s  cholesterol  \\\n",
      "637    67    1                4           120          229   \n",
      "287    59    1                4           140          169   \n",
      "952    60    1                4           145          282   \n",
      "24     40    1                3           130          215   \n",
      "259    51    0                3           150          200   \n",
      "...   ...  ...              ...           ...          ...   \n",
      "1163   66    0                3           146          278   \n",
      "454    60    1                4           120            0   \n",
      "1144   76    0                3           140          197   \n",
      "522    61    1                4           120          282   \n",
      "515    43    1                4           122            0   \n",
      "\n",
      "      fasting blood sugar  resting ecg  max heart rate  exercise angina  \\\n",
      "637                     0            2             129                1   \n",
      "287                     0            0             140                0   \n",
      "952                     0            2             142                1   \n",
      "24                      0            0             138                0   \n",
      "259                     0            0             120                0   \n",
      "...                   ...          ...             ...              ...   \n",
      "1163                    0            2             152                0   \n",
      "454                     0            0             133                1   \n",
      "1144                    0            1             116                0   \n",
      "522                     0            1             135                1   \n",
      "515                     0            0             120                0   \n",
      "\n",
      "      oldpeak  ST slope  \n",
      "637       2.6         2  \n",
      "287       0.0         1  \n",
      "952       2.8         2  \n",
      "24        0.0         1  \n",
      "259       0.5         1  \n",
      "...       ...       ...  \n",
      "1163      0.0         2  \n",
      "454       2.0         1  \n",
      "1144      1.1         2  \n",
      "522       4.0         3  \n",
      "515       0.5         1  \n",
      "\n",
      "[250 rows x 11 columns]\n"
     ]
    }
   ],
   "source": [
    "x_col = X_train\n",
    "X_val,y_val = train_test_split(x_col,test_size=0.3,random_state=0)\n",
    "print(X_val)\n",
    "print(y_val)"
   ]
  },
  {
   "cell_type": "markdown",
   "id": "724f6aa5",
   "metadata": {},
   "source": [
    "Train a sklearn Logistic Regression model on the data with selected\n",
    "columns (train subset)."
   ]
  },
  {
   "cell_type": "code",
   "execution_count": 15,
   "id": "b3cace20",
   "metadata": {
    "collapsed": true
   },
   "outputs": [
    {
     "name": "stderr",
     "output_type": "stream",
     "text": [
      "/home/tudor/.local/lib/python3.10/site-packages/sklearn/linear_model/_logistic.py:458: ConvergenceWarning: lbfgs failed to converge (status=1):\n",
      "STOP: TOTAL NO. of ITERATIONS REACHED LIMIT.\n",
      "\n",
      "Increase the number of iterations (max_iter) or scale the data as shown in:\n",
      "    https://scikit-learn.org/stable/modules/preprocessing.html\n",
      "Please also refer to the documentation for alternative solver options:\n",
      "    https://scikit-learn.org/stable/modules/linear_model.html#logistic-regression\n",
      "  n_iter_i = _check_optimize_result(\n"
     ]
    },
    {
     "data": {
      "text/plain": [
       "array([1, 0, 1, 0, 0, 0, 1, 0, 0, 1, 1, 0, 1, 0, 0, 1, 1, 1, 0, 0, 0, 1,\n",
       "       0, 1, 0, 0, 1, 0, 0, 0, 0, 1, 1, 0, 1, 0, 0, 1, 1, 1, 1, 0, 0, 1,\n",
       "       1, 1, 1, 1, 1, 0, 0, 0, 1, 1, 0, 0, 1, 0, 1, 0, 1, 0, 1, 0, 1, 0,\n",
       "       0, 0, 1, 0, 0, 0, 0, 1, 0, 1, 1, 1, 0, 0, 1, 1, 0, 0, 1, 0, 0, 1,\n",
       "       0, 0, 0, 1, 0, 1, 0, 1, 1, 0, 1, 0, 1, 0, 0, 1, 1, 1, 1, 0, 1, 0,\n",
       "       1, 1, 0, 0, 0, 1, 0, 0, 0, 0, 0, 1, 0, 0, 0, 0, 1, 1, 1, 1, 1, 0,\n",
       "       0, 1, 0, 0, 0, 0, 1, 1, 1, 0, 1, 0, 0, 0, 1, 0, 1, 1, 1, 0, 0, 0,\n",
       "       1, 0, 0, 1, 1, 1, 0, 0, 1, 0, 1, 1, 0, 0, 0, 0, 1, 0, 1, 1, 0, 0,\n",
       "       0, 0, 0, 0, 0, 0, 1, 1, 1, 0, 1, 1, 0, 0, 0, 1, 0, 0, 1, 0, 0, 0,\n",
       "       1, 1, 0, 0, 1, 1, 1, 1, 1, 1, 0, 0, 1, 1, 1, 0, 0, 0, 0, 0, 1, 1,\n",
       "       0, 0, 0, 1, 0, 1, 1, 0, 1, 0, 0, 1, 1, 1, 1, 0, 1, 0, 1, 1, 0, 1,\n",
       "       1, 1, 0, 0, 1, 0, 1, 1])"
      ]
     },
     "execution_count": 15,
     "metadata": {},
     "output_type": "execute_result"
    }
   ],
   "source": [
    "target_col = y_train\n",
    "X2_val,y2_val = train_test_split(target_col,test_size=0.3,random_state=0)\n",
    "# train the model based on the data of train subset.\n",
    "lil_picir = LogisticRegression()\n",
    "lil_picir.fit(X_val,X2_val)\n",
    "output2 = lil_picir.predict(y_val)\n",
    "output2"
   ]
  },
  {
   "cell_type": "markdown",
   "id": "17bbeb92",
   "metadata": {},
   "source": [
    " Test the models on the test sets"
   ]
  },
  {
   "cell_type": "code",
   "execution_count": 16,
   "id": "618fe411",
   "metadata": {},
   "outputs": [
    {
     "data": {
      "text/plain": [
       "0.804"
      ]
     },
     "execution_count": 16,
     "metadata": {},
     "output_type": "execute_result"
    }
   ],
   "source": [
    "# Determine the accuracy of the model \n",
    "accuracy_score(y2_val,output2)"
   ]
  },
  {
   "cell_type": "markdown",
   "id": "7ab578bd",
   "metadata": {},
   "source": [
    "Please try to interpret the results you are getting by comparing the\n",
    "model’s accuracy on the test sets"
   ]
  },
  {
   "cell_type": "code",
   "execution_count": null,
   "id": "a0f95898",
   "metadata": {},
   "outputs": [],
   "source": [
    "#It can be noticed that both models work well since they have an accuracy higher than 0.7."
   ]
  }
 ],
 "metadata": {
  "kernelspec": {
   "display_name": "Python 3 (ipykernel)",
   "language": "python",
   "name": "python3"
  },
  "language_info": {
   "codemirror_mode": {
    "name": "ipython",
    "version": 3
   },
   "file_extension": ".py",
   "mimetype": "text/x-python",
   "name": "python",
   "nbconvert_exporter": "python",
   "pygments_lexer": "ipython3",
   "version": "3.10.9"
  }
 },
 "nbformat": 4,
 "nbformat_minor": 5
}
